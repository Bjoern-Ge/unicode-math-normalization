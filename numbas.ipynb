{
 "cells": [
  {
   "cell_type": "markdown",
   "id": "66541a93-83be-4270-ab1f-b474b5c77667",
   "metadata": {},
   "source": [
    "# Compiling data for Numbas JME\n",
    "\n",
    "This notebook takes the final data and collects it in a single JavaScript file, `numbas-unicode.js`, which will be used in the Numbas JME system."
   ]
  },
  {
   "cell_type": "code",
   "execution_count": 1,
   "id": "66d03042-8da7-4738-b929-352285b53996",
   "metadata": {
    "tags": []
   },
   "outputs": [],
   "source": [
    "from pathlib import Path\n",
    "import json\n",
    "\n",
    "data_dir = Path('final_data')"
   ]
  },
  {
   "cell_type": "markdown",
   "id": "d3529380-0573-45ea-a9c8-682c14460e1c",
   "metadata": {},
   "source": [
    "# Greek letters\n",
    "Map a symbol to a long name"
   ]
  },
  {
   "cell_type": "code",
   "execution_count": 2,
   "id": "95856606-4325-4898-a1b6-41d25bd48479",
   "metadata": {
    "tags": []
   },
   "outputs": [],
   "source": [
    "with open(data_dir / 'greek.json') as f:\n",
    "    greek = json.load(f)\n",
    "    \n",
    "    greek = {k: v[0] for k,v in greek.items()}"
   ]
  },
  {
   "cell_type": "markdown",
   "id": "a5b287e7-72f6-4bd7-9ae2-f9883125335b",
   "metadata": {},
   "source": [
    "# Letters\n",
    "\n",
    "Can use the letters data as-is"
   ]
  },
  {
   "cell_type": "code",
   "execution_count": 3,
   "id": "fff8f1ea-84cf-450d-9e5d-fe645234b392",
   "metadata": {
    "tags": []
   },
   "outputs": [],
   "source": [
    "with open(data_dir / 'letters.json') as f:\n",
    "    letters = json.load(f)"
   ]
  },
  {
   "cell_type": "markdown",
   "id": "acdf3b46-d6b7-41f8-9a38-e8f4397e757c",
   "metadata": {},
   "source": [
    "# Subscripts and superscripts\n",
    "\n",
    "Map symbols to their standard equivalents."
   ]
  },
  {
   "cell_type": "code",
   "execution_count": 4,
   "id": "ce289c93-cf32-4797-86af-260e98ac6f12",
   "metadata": {
    "tags": []
   },
   "outputs": [],
   "source": [
    "with open(data_dir / 'subscripts.json') as f:\n",
    "    subscripts = json.load(f)\n",
    "    \n",
    "    subscripts = {k:v[0] for k,v in subscripts.items()}\n",
    "    \n",
    "with open(data_dir / 'superscripts.json') as f:\n",
    "    superscripts = json.load(f)\n",
    "    \n",
    "    superscripts = {k:v[0] for k,v in superscripts.items()}    "
   ]
  },
  {
   "cell_type": "markdown",
   "id": "86cc6b55-923e-4e3c-aa20-03a4817ef6ad",
   "metadata": {},
   "source": [
    "# Symbols\n",
    "Can use the symbol data as-is."
   ]
  },
  {
   "cell_type": "code",
   "execution_count": 5,
   "id": "ec30539c-f497-47fd-86a0-907603dd35ad",
   "metadata": {
    "tags": []
   },
   "outputs": [],
   "source": [
    "with open(data_dir / 'symbols.json') as f:\n",
    "    symbols = json.load(f)"
   ]
  },
  {
   "cell_type": "markdown",
   "id": "49c5bc48-15e2-480b-8de1-1a6ab1eb136e",
   "metadata": {},
   "source": [
    "# Write out the JS file"
   ]
  },
  {
   "cell_type": "code",
   "execution_count": 6,
   "id": "5043b34f-8021-4b39-ac1f-38acf8b60ab8",
   "metadata": {
    "tags": []
   },
   "outputs": [],
   "source": [
    "with open('numbas-unicode.js', 'w') as f:\n",
    "    data = json.dumps({\n",
    "        'greek': greek,\n",
    "        'subscripts': subscripts,\n",
    "        'superscripts': superscripts,\n",
    "        'letters': letters,\n",
    "        'symbols': symbols\n",
    "    })\n",
    "    \n",
    "    f.write('''\n",
    "// Created using https://github.com/numbas/unicode-math-normalization\n",
    "Numbas.queueScript('unicode-mappings',[], function() {\n",
    "    Numbas.unicode_mappings = '''+data+'''\n",
    "});\n",
    "''')"
   ]
  }
 ],
 "metadata": {
  "kernelspec": {
   "display_name": "Python 3 (ipykernel)",
   "language": "python",
   "name": "python3"
  },
  "language_info": {
   "codemirror_mode": {
    "name": "ipython",
    "version": 3
   },
   "file_extension": ".py",
   "mimetype": "text/x-python",
   "name": "python",
   "nbconvert_exporter": "python",
   "pygments_lexer": "ipython3",
   "version": "3.10.6"
  }
 },
 "nbformat": 4,
 "nbformat_minor": 5
}
